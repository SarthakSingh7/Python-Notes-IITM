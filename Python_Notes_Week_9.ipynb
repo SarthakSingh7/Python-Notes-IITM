{
  "nbformat": 4,
  "nbformat_minor": 0,
  "metadata": {
    "colab": {
      "provenance": [],
      "authorship_tag": "ABX9TyOEGSBmbVR2Mle9UKu849Xf",
      "include_colab_link": true
    },
    "kernelspec": {
      "name": "python3",
      "display_name": "Python 3"
    },
    "language_info": {
      "name": "python"
    }
  },
  "cells": [
    {
      "cell_type": "markdown",
      "metadata": {
        "id": "view-in-github",
        "colab_type": "text"
      },
      "source": [
        "<a href=\"https://colab.research.google.com/github/SarthakSingh7/Python-Notes-IITM/blob/main/Python_Notes_Week_9.ipynb\" target=\"_parent\"><img src=\"https://colab.research.google.com/assets/colab-badge.svg\" alt=\"Open In Colab\"/></a>"
      ]
    },
    {
      "cell_type": "markdown",
      "source": [
        "***\n",
        "#W9L1 Introduction to File Handling"
      ],
      "metadata": {
        "id": "upYT2sWLxIqz"
      }
    },
    {
      "cell_type": "markdown",
      "source": [
        "This week we will learn:\n",
        "* File handling\n",
        "* Pandas - very important for Data Science"
      ],
      "metadata": {
        "id": "P1aDgFOFxVYE"
      }
    },
    {
      "cell_type": "code",
      "execution_count": null,
      "metadata": {
        "id": "Y9QNAFrmw_TM"
      },
      "outputs": [],
      "source": []
    }
  ]
}